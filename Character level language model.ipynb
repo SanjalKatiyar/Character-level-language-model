{
 "cells": [
  {
   "cell_type": "markdown",
   "metadata": {},
   "source": [
    "## Character level language model - Generating new names of dinosaurs: "
   ]
  },
  {
   "cell_type": "code",
   "execution_count": 1,
   "metadata": {},
   "outputs": [],
   "source": [
    "import numpy as np\n",
    "from utils import *\n",
    "import random"
   ]
  },
  {
   "cell_type": "code",
   "execution_count": 2,
   "metadata": {},
   "outputs": [
    {
     "name": "stdout",
     "output_type": "stream",
     "text": [
      "There are 19909 total characters and 27 unique characters in the data.\n"
     ]
    }
   ],
   "source": [
    "data = open('dinos.txt', 'r').read()\n",
    "data= data.lower()\n",
    "chars = list(set(data))\n",
    "data_size, vocab_size = len(data), len(chars)\n",
    "print('There are %d total characters and %d unique characters in the data.' % (data_size, vocab_size))"
   ]
  },
  {
   "cell_type": "code",
   "execution_count": 3,
   "metadata": {},
   "outputs": [
    {
     "data": {
      "text/plain": [
       "'aachenosaurus\\naardonyx\\nabdallahsaurus\\nabelisaurus\\nabrictosaurus\\nabrosaurus\\nabydosaurus\\nacanthopholis\\nachelousaurus\\nacheroraptor\\nachillesaurus\\nachillobator\\nacristavus\\nacrocanthosaurus\\nacrotholus\\nactiosaurus\\nadamantisaurus\\nadasaurus\\nadelolophus\\nadeopapposaurus\\naegyptosaurus\\naeolosaurus\\naepisaurus\\naepyornithomimus\\naerosteon\\naetonyxafromimus\\nafrovenator\\nagathaumas\\naggiosaurus\\nagilisaurus\\nagnosphitys\\nagrosaurus\\nagujaceratops\\nagustinia\\nahshislepelta\\nairakoraptor\\najancingenia\\najkaceratops\\nalamosaurus\\nalaskacephale\\nalbalophosaurus\\nalbertaceratops\\nalbertadromeus\\nalbertavenator\\nalbertonykus\\nalbertosaurus\\nalbinykus\\nalbisaurus\\nalcovasaurus\\nalectrosaurus\\naletopelta\\nalgoasaurus\\nalioramus\\naliwalia\\nallosaurus\\nalmas\\nalnashetri\\nalocodon\\naltirhinus\\naltispinax\\nalvarezsaurus\\nalwalkeria\\nalxasaurus\\namargasaurus\\namargastegos\\namargatitanis\\namazonsaurus\\nammosaurus\\nampelosaurus\\namphicoelias\\namphicoelicaudia\\namphisaurus\\namtocephale\\namtosaurus\\namurosaurus\\namygdalodon\\nanabisetia\\nanasazisaurus\\nanatosaurus\\nanatotitan\\nanchiceratops\\nanchiornis\\nanchisaurus\\nandesaurus\\nandhrasaurus\\nangaturama\\nangloposeidon\\nangolatitan\\nangulomastacator\\naniksosaurus\\nanimantarx\\nankistrodon\\nankylosaurus\\nanodontosaurus\\nanoplosaurus\\nanserimimus\\nantarctopelta\\nantarctosaurus\\nantetonitrus\\nanthodon\\nantrodemus\\nanzu\\naoniraptor\\naorun\\napatodon\\napatoraptor\\napatosaurus\\nappalachiosaurus\\naquilops\\naragosaurus\\naralosaurus\\naraucanoraptor\\narchaeoceratops\\narchaeodontosaurus\\narchaeopteryx\\narchaeoraptor\\narchaeornis\\narchaeornithoides\\narchaeornithomimus\\narcovenator\\narctosaurus\\narcusaurus\\narenysaurus\\nargentinosaurus\\nargyrosaurus\\naristosaurus\\naristosuchus\\narizonasaurus\\narkansaurus\\narkharavia\\narrhinoceratops\\narstanosaurus\\nasiaceratops\\nasiamericana\\nasiatosaurus\\nastrodon\\nastrodonius\\nastrodontaurus\\nastrophocaudia\\nasylosaurus\\natacamatitan\\natlantosaurus\\natlasaurus\\natlascopcosaurus\\natrociraptor\\natsinganosaurus\\naublysodon\\naucasaurus\\naugustia\\naugustynolophus\\nauroraceratops\\naurornis\\naustralodocus\\naustralovenator\\naustrocheirus\\naustroposeidon\\naustroraptor\\naustrosaurus\\navaceratops\\navalonia\\navalonianus\\naviatyrannis\\navimimus\\navisaurus\\navipes\\nazendohsaurus\\nbactrosaurus\\nbagaceratops\\nbagaraatan\\nbahariasaurus\\nbainoceratops\\nbakesaurus\\nbalaur\\nbalochisaurus\\nbambiraptor\\nbanji\\nbaotianmansaurus\\nbarapasaurus\\nbarilium\\nbarosaurus\\nbarrosasaurus\\nbarsboldia\\nbaryonyx\\nbashunosaurus\\nbasutodon\\nbathygnathus\\nbatyrosaurus\\nbaurutitan\\nbayosaurus\\nbecklespinax\\nbeelemodon\\nbeibeilong\\nbeipiaognathus\\nbeipiaosaurus\\nbeishanlong\\nbellusaurus\\nbelodon\\nberberosaurus\\nbetasuchus\\nbicentenaria\\nbienosaurus\\nbihariosaurus\\nbilbeyhallorum\\nbissektipelta\\nbistahieversor\\nblancocerosaurus\\nblasisaurus\\nblikanasaurus\\nbolong\\nbonapartenykus\\nbonapartesaurus\\nbonatitan\\nbonitasaura\\nborealopelta\\nborealosaurus\\nboreonykus\\nborogovia\\nbothriospondylus\\nbrachiosaurus\\nbrachyceratops\\nbrachylophosaurus\\nbrachypodosaurus\\nbrachyrophus\\nbrachytaenius\\nbrachytrachelopan\\nbradycneme\\nbrasileosaurus\\nbrasilotitan\\nbravoceratops\\nbreviceratops\\nbrohisaurus\\nbrontomerus\\nbrontoraptor\\nbrontosaurus\\nbruhathkayosaurus\\nbugenasaura\\nbuitreraptor\\nburianosaurus\\nburiolestes\\nbyranjaffia\\nbyronosaurus\\ncaenagnathasia\\ncaenagnathus\\ncalamosaurus\\ncalamospondylus\\ncalamospondylus\\ncallovosaurus\\ncamarasaurus\\ncamarillasaurus\\ncamelotia\\ncamposaurus\\ncamptonotus\\ncamptosaurus\\ncampylodon\\ncampylodoniscus\\ncanardia\\ncapitalsaurus\\ncarcharodontosaurus\\ncardiodon\\ncarnotaurus\\ncaseosaurus\\ncathartesaura\\ncathetosaurus\\ncaudipteryx\\ncaudocoelus\\ncaulodon\\ncedarosaurus\\ncedarpelta\\ncedrorestes\\ncentemodon\\ncentrosaurus\\ncerasinops\\nceratonykus\\nceratops\\nceratosaurus\\ncetiosauriscus\\ncetiosaurus\\nchangchunsaurus\\nchangdusaurus\\nchangyuraptor\\nchaoyangsaurus\\ncharonosaurus\\nchasmosaurus\\nchassternbergia\\nchebsaurus\\nchenanisaurus\\ncheneosaurus\\nchialingosaurus\\nchiayusaurus\\nchienkosaurus\\nchihuahuasaurus\\nchilantaisaurus\\nchilesaurus\\nchindesaurus\\nchingkankousaurus\\nchinshakiangosaurus\\nchirostenotes\\nchoconsaurus\\nchondrosteosaurus\\nchromogisaurus\\nchuandongocoelurus\\nchuanjiesaurus\\nchuanqilong\\nchubutisaurus\\nchungkingosaurus\\nchuxiongosaurus\\ncinizasaurus\\ncionodon\\ncitipati\\ncladeiodon\\nclaorhynchus\\nclaosaurus\\nclarencea\\nclasmodosaurus\\nclepsysaurus\\ncoahuilaceratops\\ncoelophysis\\ncoelosaurus\\ncoeluroides\\ncoelurosauravus\\ncoelurus\\ncolepiocephale\\ncoloradia\\ncoloradisaurus\\ncolossosaurus\\ncomahuesaurus\\ncomanchesaurus\\ncompsognathus\\ncompsosuchus\\nconcavenator\\nconchoraptor\\ncondorraptor\\ncoronosaurus\\ncorythoraptor\\ncorythosaurus\\ncraspedodon\\ncrataeomus\\ncraterosaurus\\ncreosaurus\\ncrichtonpelta\\ncrichtonsaurus\\ncristatusaurus\\ncrosbysaurus\\ncruxicheiros\\ncryolophosaurus\\ncryptodraco\\ncryptoraptor\\ncryptosaurus\\ncryptovolans\\ncumnoria\\ndaanosaurus\\ndacentrurus\\ndachongosaurus\\ndaemonosaurus\\ndahalokely\\ndakosaurus\\ndakotadon\\ndakotaraptor\\ndaliansaurus\\ndamalasaurus\\ndandakosaurus\\ndanubiosaurus\\ndaptosaurus\\ndarwinsaurus\\ndashanpusaurus\\ndaspletosaurus\\ndasygnathoides\\ndasygnathus\\ndatanglong\\ndatonglong\\ndatousaurus\\ndaurosaurus\\ndaxiatitan\\ndeinocheirus\\ndeinodon\\ndeinonychus\\ndelapparentia\\ndeltadromeus\\ndemandasaurus\\ndenversaurus\\ndeuterosaurus\\ndiabloceratops\\ndiamantinasaurus\\ndianchungosaurus\\ndiceratops\\ndiceratusdiclonius\\ndicraeosaurus\\ndidanodondilong\\ndilophosaurus\\ndiluvicursor\\ndimodosaurus\\ndinheirosaurus\\ndinodocus\\ndinotyrannus\\ndiplodocus\\ndiplotomodon\\ndiracodon\\ndolichosuchus\\ndollodon\\ndomeykosaurus\\ndongbeititan\\ndongyangopelta\\ndongyangosaurus\\ndoratodon\\ndoryphorosaurus\\ndraconyx\\ndracopelta\\ndracoraptor\\ndracorex\\ndracovenator\\ndravidosaurus\\ndreadnoughtus\\ndrinker\\ndromaeosauroides\\ndromaeosaurus\\ndromiceiomimus\\ndromicosaurus\\ndrusilasaura\\ndryosaurus\\ndryptosauroides\\ndryptosaurus\\ndubreuillosaurus\\nduriatitan\\nduriavenator\\ndynamosaurus\\ndyoplosaurus\\ndysalotosaurus\\ndysganus\\ndyslocosaurus\\ndystrophaeus\\ndystylosaurus\\nechinodon\\nedmarka\\nedmontonia\\nedmontosaurus\\nefraasia\\neiniosaurus\\nekrixinatosaurus\\nelachistosuchus\\nelaltitan\\nelaphrosaurus\\nelmisaurus\\nelopteryx\\nelosaurus\\nelrhazosaurus\\nelvisaurus\\nemausaurus\\nembasaurus\\nenigmosaurus\\neoabelisaurus\\neobrontosaurus\\neocarcharia\\neoceratops\\neocursor\\neodromaeus\\neohadrosaurus\\neolambia\\neomamenchisaurus\\neoplophysis\\neoraptor\\neosinopteryx\\neotrachodon\\neotriceratops\\neotyrannus\\neousdryosaurus\\nepachthosaurus\\nepanterias\\nephoenosaurus\\nepicampodon\\nepichirostenotes\\nepidendrosaurus\\nepidexipteryx\\nequijubus\\nerectopus\\nerketu\\nerliansaurus\\nerlikosaurus\\neshanosaurus\\neuacanthus\\neucamerotus\\neucentrosaurus\\neucercosaurus\\neucnemesaurus\\neucoelophysis\\neugongbusaurus\\neuhelopus\\neuoplocephalus\\neupodosaurus\\neureodon\\neurolimnornis\\neuronychodon\\neuropasaurus\\neuropatitan\\neuropelta\\neuskelosaurus\\neustreptospondylus\\nfabrosaurus\\nfalcarius\\nfendusaurus\\nfenestrosaurus\\nferganasaurus\\nferganastegos\\nferganocephale\\nforaminacephale\\nfosterovenator\\nfrenguellisaurus\\nfruitadens\\nfukuiraptor\\nfukuisaurus\\nfukuititan\\nfukuivenator\\nfulengia\\nfulgurotherium\\nfusinasus\\nfusuisaurus\\nfutabasaurus\\nfutalognkosaurus\\ngadolosaurus\\ngaleamopus\\ngalesaurus\\ngallimimus\\ngaltonia\\ngalveosaurus\\ngalvesaurus\\ngannansaurus\\ngansutitan\\nganzhousaurus\\ngargoyleosaurus\\ngarudimimus\\ngasosaurus\\ngasparinisaura\\ngastonia\\ngavinosaurus\\ngeminiraptor\\ngenusaurus\\ngenyodectes\\ngeranosaurus\\ngideonmantellia\\ngiganotosaurus\\ngigantoraptor\\ngigantosaurus\\ngigantosaurus\\ngigantoscelus\\ngigantspinosaurus\\ngilmoreosaurus\\nginnareemimus\\ngiraffatitan\\nglacialisaurus\\nglishades\\nglyptodontopelta\\nskeleton\\ngobiceratops\\ngobisaurus\\ngobititan\\ngobivenator\\ngodzillasaurus\\ngojirasaurus\\ngondwanatitan\\ngongbusaurus\\ngongpoquansaurus\\ngongxianosaurus\\ngorgosaurus\\ngoyocephale\\ngraciliceratops\\ngraciliraptor\\ngracilisuchus\\ngravitholus\\ngresslyosaurus\\ngriphornis\\ngriphosaurus\\ngryphoceratops\\ngryponyx\\ngryposaurus\\ngspsaurus\\nguaibasaurus\\ngualicho\\nguanlong\\ngwyneddosaurus\\ngyposaurus\\nhadrosauravus\\nhadrosaurus\\nhaestasaurus\\nhagryphus\\nhallopus\\nhalszkaraptor\\nhalticosaurus\\nhanssuesia\\nhanwulosaurus\\nhaplocanthosaurus\\nhaplocanthus\\nhaplocheirus\\nharpymimus\\nhaya\\nhecatasaurus\\nheilongjiangosaurus\\nheishansaurus\\nhelioceratops\\nhelopus\\nheptasteornis\\nherbstosaurus\\nherrerasaurus\\nhesperonychus\\nhesperosaurus\\nheterodontosaurus\\nheterosaurus\\nhexing\\nhexinlusaurus\\nheyuannia\\nhierosaurus\\nhippodraco\\nhironosaurus\\nhisanohamasaurus\\nhistriasaurus\\nhomalocephale\\nhonghesaurus\\nhongshanosaurus\\nhoplitosaurus\\nhoplosaurus\\nhorshamosaurus\\nhortalotarsus\\nhuabeisaurus\\nhualianceratops\\nhuanansaurus\\nhuanghetitan\\nhuangshanlong\\nhuaxiagnathus\\nhuaxiaosaurus\\nhuaxiasaurus\\nhuayangosaurus\\nhudiesaurus\\nhuehuecanauhtlus\\nhulsanpes\\nhungarosaurus\\nhuxleysaurus\\nhylaeosaurus\\nhylosaurushypacrosaurus\\nhypselorhachis\\nhypselosaurus\\nhypselospinus\\nhypsibema\\nhypsilophodon\\nhypsirhophus\\nhabodcraniosaurus\\nichthyovenator\\nignavusaurus\\niguanacolossus\\niguanodon\\niguanoides\\nskeleton\\niguanosaurus\\niliosuchus\\nilokelesia\\nincisivosaurus\\nindosaurus\\nindosuchus\\ningenia\\ninosaurus\\nirritator\\nisaberrysaura\\nisanosaurus\\nischioceratops\\nischisaurus\\nischyrosaurus\\nisisaurus\\nissasaurus\\nitemirus\\niuticosaurus\\njainosaurus\\njaklapallisaurus\\njanenschia\\njaxartosaurus\\njeholosaurus\\njenghizkhan\\njensenosaurus\\njeyawati\\njianchangosaurus\\njiangjunmiaosaurus\\njiangjunosaurus\\njiangshanosaurus\\njiangxisaurus\\njianianhualong\\njinfengopteryx\\njingshanosaurus\\njintasaurus\\njinzhousaurus\\njiutaisaurus\\njobaria\\njubbulpuria\\njudiceratops\\njurapteryx\\njurassosaurus\\njuratyrant\\njuravenator\\nkagasaurus\\nkaijiangosaurus\\nkakuru\\nkangnasaurus\\nkarongasaurus\\nkatepensaurus\\nkatsuyamasaurus\\nkayentavenator\\nkazaklambia\\nkelmayisaurus\\nkemkemiakentrosaurus\\nkentrurosaurus\\nkerberosaurus\\nkentrosaurus\\nkhaan\\nkhetranisaurus\\nkileskus\\nkinnareemimus\\nkitadanisaurus\\nkittysaurus\\nklamelisauruskol\\nkoparion\\nkoreaceratops\\nkoreanosaurus\\nkoreanosaurus\\nkoshisaurus\\nkosmoceratops\\nkotasaurus\\nkoutalisaurus\\nkritosaurus\\nkryptops\\nkrzyzanowskisaurus\\nkukufeldia\\nkulceratops\\nkulindadromeus\\nkulindapteryx\\nkunbarrasaurus\\nkundurosaurus\\nkunmingosaurus\\nkuszholia\\nlabocania\\nlabrosaurus\\nlaelaps\\nlaevisuchus\\nlagerpeton\\nlagosuchus\\nlaiyangosaurus\\nlamaceratops\\nlambeosaurus\\nlametasaurus\\nlamplughsaura\\nlanasaurus\\nlancangosaurus\\nlancanjiangosaurus\\nlanzhousaurus\\nlaosaurus\\nlapampasaurus\\nlaplatasaurus\\nlapparentosaurus\\nlaquintasaura\\nlatenivenatrix\\nlatirhinus\\nleaellynasaura\\nleinkupal\\nleipsanosaurus\\nlengosaurus\\nleonerasaurus\\nlepidocheirosaurus\\nlepidus\\nleptoceratops\\nleptorhynchos\\nleptospondylus\\nleshansaurus\\nlesothosaurus\\nlessemsaurus\\nlevnesovia\\nlewisuchus\\nlexovisaurus\\nleyesaurus\\nliaoceratops\\nliaoningosaurus\\nliaoningtitan\\nliaoningvenator\\nliassaurus\\nlibycosaurus\\nligabueino\\nligabuesaurus\\nligomasaurus\\nlikhoelesaurus\\nliliensternus\\nlimaysaurus\\nlimnornis\\nlimnosaurus\\nlimusaurus\\nlinhenykus\\nlinheraptor\\nlinhevenator\\nlirainosaurus\\nlisboasaurusliubangosaurus\\nlohuecotitan\\nloncosaurus\\nlongisquama\\nlongosaurus\\nlophorhothon\\nlophostropheus\\nloricatosaurus\\nloricosaurus\\nlosillasaurus\\nlourinhanosaurus\\nlourinhasaurus\\nluanchuanraptor\\nluanpingosaurus\\nlucianosaurus\\nlucianovenator\\nlufengosaurus\\nlukousaurus\\nluoyanggia\\nlurdusaurus\\nlusitanosaurus\\nlusotitan\\nlycorhinus\\nlythronax\\nmacelognathus\\nmachairasaurus\\nmachairoceratops\\nmacrodontophion\\nmacrogryphosaurus\\nmacrophalangia\\nmacroscelosaurus\\nmacrurosaurus\\nmadsenius\\nmagnapaulia\\nmagnamanus\\nmagnirostris\\nmagnosaurus\\nmagulodon\\nmagyarosaurus\\nmahakala\\nmaiasaura\\nmajungasaurus\\nmajungatholus\\nmalarguesaurus\\nmalawisaurus\\nmaleevosaurus\\nmaleevus\\nmamenchisaurus\\nmanidens\\nmandschurosaurus\\nmanospondylus\\nmantellisaurus\\nmantellodon\\nmapusaurus\\nmarasuchus\\nmarisaurus\\nmarmarospondylus\\nmarshosaurus\\nmartharaptor\\nmasiakasaurus\\nmassospondylus\\nmatheronodon\\nmaxakalisaurus\\nmedusaceratops\\nmegacervixosaurus\\nmegadactylus\\nmegadontosaurus\\nmegalosaurus\\nmegapnosaurus\\nmegaraptor\\nmei\\nmelanorosaurus\\nmendozasaurus\\nmercuriceratops\\nmeroktenos\\nmetriacanthosaurus\\nmicrocephale\\nmicroceratops\\nmicroceratus\\nmicrocoelus\\nmicrodontosaurus\\nmicrohadrosaurus\\nmicropachycephalosaurus\\nmicroraptor\\nmicrovenator\\nmierasaurus\\nmifunesaurus\\nminmi\\nminotaurasaurus\\nmiragaia\\nmirischia\\nmoabosaurus\\nmochlodon\\nmohammadisaurus\\nmojoceratops\\nmongolosaurus\\nmonkonosaurus\\nmonoclonius\\nmonolophosaurus\\nmononychus\\nmononykus\\nmontanoceratops\\nmorelladon\\nmorinosaurus\\nmorosaurus\\nmorrosaurus\\nmosaiceratops\\nmoshisaurus\\nmtapaiasaurus\\nmtotosaurus\\nmurusraptor\\nmussaurus\\nmuttaburrasaurus\\nmuyelensaurus\\nmymoorapelta\\nnaashoibitosaurus\\nnambalia\\nnankangia\\nnanningosaurus\\nnanosaurus\\nnanotyrannus\\nnanshiungosaurus\\nnanuqsaurus\\nnanyangosaurus\\nnarambuenatitan\\nnasutoceratops\\nnatronasaurus\\nnebulasaurus\\nnectosaurus\\nnedcolbertia\\nnedoceratops\\nneimongosaurus\\nnemegtia\\nnemegtomaia\\nnemegtosaurus\\nneosaurus\\nneosodon\\nneovenator\\nneuquenraptor\\nneuquensaurus\\nnewtonsaurus\\nngexisaurus\\nnicksaurus\\nnigersaurus\\nningyuansaurus\\nniobrarasaurus\\nnipponosaurus\\nnoasaurus\\nnodocephalosaurus\\nnodosaurus\\nnomingia\\nnopcsaspondylus\\nnormanniasaurus\\nnothronychus\\nnotoceratops\\nnotocolossus\\nnotohypsilophodon\\nnqwebasaurus\\nnteregosaurus\\nnurosaurus\\nnuthetes\\nnyasasaurus\\nnyororosaurus\\nohmdenosaurus\\nojoceratops\\nojoraptorsaurus\\noligosaurus\\nolorotitan\\nomeisaurus\\nomosaurus\\nonychosaurus\\noohkotokia\\nopisthocoelicaudia\\noplosaurus\\norcomimus\\norinosaurusorkoraptor\\nornatotholusornithodesmus\\nornithoides\\nornitholestes\\nornithomerus\\nornithomimoides\\nornithomimus\\nornithopsis\\nornithosuchus\\nornithotarsus\\norodromeus\\norosaurus\\northogoniosaurus\\northomerus\\noryctodromeus\\noshanosaurus\\nosmakasaurus\\nostafrikasaurus\\nostromia\\nothnielia\\nothnielosaurus\\notogosaurus\\nouranosaurus\\noverosaurus\\noviraptor\\novoraptor\\nowenodon\\noxalaia\\nozraptor\\npachycephalosaurus\\npachyrhinosaurus\\npachysauriscus\\npachysaurops\\npachysaurus\\npachyspondylus\\npachysuchus\\npadillasaurus\\npakisaurus\\npalaeoctonus\\npalaeocursornis\\npalaeolimnornis\\npalaeopteryx\\npalaeosauriscus\\npalaeosaurus\\npalaeosaurus\\npalaeoscincus\\npaleosaurus\\npaludititan\\npaluxysaurus\\npampadromaeus\\npamparaptor\\npanamericansaurus\\npandoravenator\\npanguraptor\\npanoplosaurus\\npanphagia\\npantydraco\\nparaiguanodon\\nparalititan\\nparanthodon\\npararhabdodon\\nparasaurolophus\\npareiasaurus\\nparksosaurus\\nparonychodon\\nparrosaurus\\nparvicursor\\npatagonykus\\npatagosaurus\\npatagotitan\\npawpawsaurus\\npectinodon\\npedopenna\\npegomastax\\npeishansaurus\\npekinosaurus\\npelecanimimus\\npellegrinisaurus\\npeloroplites\\npelorosaurus\\npeltosaurus\\npenelopognathus\\npentaceratops\\npetrobrasaurus\\nphaedrolosaurus\\nphilovenator\\nphuwiangosaurus\\nphyllodon\\npiatnitzkysaurus\\npicrodon\\npinacosaurus\\npisanosaurus\\npitekunsaurus\\npiveteausaurus\\nplanicoxa\\nplateosauravus\\nplateosaurus\\nplatyceratops\\nplesiohadros\\npleurocoelus\\npleuropeltus\\npneumatoarthrus\\npneumatoraptor\\npodokesaurus\\npoekilopleuron\\npolacanthoides\\npolacanthus\\npolyodontosaurus\\npolyonax\\nponerosteus\\npoposaurus\\nparasaurolophus\\npostosuchus\\npowellvenator\\npradhania\\nprenocephale\\nprenoceratops\\npriconodon\\npriodontognathus\\nproa\\nprobactrosaurus\\nprobrachylophosaurus\\nproceratops\\nproceratosaurus\\nprocerosaurus\\nprocerosaurus\\nprocheneosaurus\\nprocompsognathus\\nprodeinodon\\nproiguanodon\\npropanoplosaurus\\nproplanicoxa\\nprosaurolophus\\nprotarchaeopteryx\\nprotecovasaurus\\nprotiguanodon\\nprotoavis\\nprotoceratops\\nprotognathosaurus\\nprotognathus\\nprotohadros\\nprotorosaurus\\nprotorosaurus\\nprotrachodon\\nproyandusaurus\\npseudolagosuchus\\npsittacosaurus\\npteropelyx\\npterospondylus\\npuertasaurus\\npukyongosaurus\\npulanesaura\\npycnonemosaurus\\npyroraptor\\nqantassaurus\\nqianzhousaurus\\nqiaowanlong\\nqijianglong\\nqinlingosaurus\\nqingxiusaurus\\nqiupalong\\nquaesitosaurus\\nquetecsaurus\\nquilmesaurus\\nrachitrema\\nrahiolisaurus\\nrahona\\nrahonavis\\nrajasaurus\\nrapator\\nrapetosaurus\\nraptorex\\nratchasimasaurus\\nrativates\\nrayososaurus\\nrazanandrongobe\\nrebbachisaurus\\nregaliceratops\\nregnosaurus\\nrevueltosaurus\\nrhabdodon\\nrhadinosaurus\\nrhinorex\\nrhodanosaurus\\nrhoetosaurus\\nrhopalodon\\nriabininohadros\\nrichardoestesia\\nrileya\\nrileyasuchus\\nrinchenia\\nrinconsaurus\\nrioarribasaurus\\nriodevasaurus\\nriojasaurus\\nriojasuchus\\nrocasaurus\\nroccosaurus\\nrubeosaurus\\nruehleia\\nrugocaudia\\nrugops\\nrukwatitan\\nruyangosaurus\\nsacisaurus\\nsahaliyania\\nsaichania\\nsaldamosaurus\\nsalimosaurus\\nsaltasaurus\\nsaltopus\\nsaltriosaurus\\nsanchusaurus\\nsangonghesaurus\\nsanjuansaurus\\nsanpasaurus\\nsantanaraptor\\nsaraikimasoom\\nsarahsaurus\\nsarcolestes\\nsarcosaurus\\nsarmientosaurus\\nsaturnalia\\nsauraechinodon\\nsaurolophus\\nsauroniops\\nsauropelta\\nsaurophaganax\\nsaurophagus\\nsauroplites\\nsauroposeidon\\nsaurornithoides\\nsaurornitholestes\\nsavannasaurus\\nscansoriopteryx\\nscaphonyx\\nscelidosaurus\\nscipionyx\\nsciurumimus\\nscleromochlus\\nscolosaurus\\nscutellosaurus\\nsecernosaurus\\nsefapanosaurus\\nsegisaurus\\nsegnosaurus\\nseismosaurus\\nseitaad\\nselimanosaurus\\nsellacoxa\\nsellosaurus\\nserendipaceratops\\nserikornis\\nshamosaurus\\nshanag\\nshanshanosaurus\\nshantungosaurus\\nshanxia\\nshanyangosaurus\\nshaochilong\\nshenzhousaurus\\nshidaisaurus\\nshingopana\\nshixinggia\\nshuangbaisaurus\\nshuangmiaosaurus\\nshunosaurus\\nshuvosaurus\\nshuvuuia\\nsiamodon\\nsiamodracon\\nsiamosaurus\\nsiamotyrannus\\nsiats\\nsibirosaurus\\nsibirotitan\\nsidormimus\\nsigilmassasaurus\\nsilesaurus\\nsiluosaurus\\nsilvisaurus\\nsimilicaudipteryx\\nsinocalliopteryx\\nsinoceratops\\nsinocoelurus\\nsinopelta\\nsinopeltosaurus\\nsinornithoides\\nsinornithomimus\\nsinornithosaurus\\nsinosauropteryx\\nsinosaurus\\nsinotyrannus\\nsinovenator\\nsinraptor\\nsinusonasus\\nsirindhorna\\nskorpiovenator\\nsmilodon\\nsonidosaurus\\nsonorasaurus\\nsoriatitan\\nsphaerotholus\\nsphenosaurus\\nsphenospondylus\\nspiclypeus\\nspinophorosaurus\\nspinops\\nspinosaurus\\nspinostropheus\\nspinosuchus\\nspondylosoma\\nsqualodon\\nstaurikosaurus\\nstegoceras\\nstegopelta\\nstegosaurides\\nstegosaurus\\nstenonychosaurus\\nstenopelix\\nstenotholus\\nstephanosaurus\\nstereocephalus\\nsterrholophus\\nstokesosaurus\\nstormbergia\\nstrenusaurus\\nstreptospondylus\\nstruthiomimus\\nstruthiosaurus\\nstygimoloch\\nstygivenator\\nstyracosaurus\\nsuccinodon\\nsuchomimus\\nsuchosaurus\\nsuchoprion\\nsugiyamasaurus\\nskeleton\\nsulaimanisaurus\\nsupersaurus\\nsuuwassea\\nsuzhousaurus\\nsymphyrophus\\nsyngonosaurus\\nsyntarsus\\nsyrmosaurus\\nszechuanosaurus\\ntachiraptor\\ntalarurus\\ntalenkauen\\ntalos\\ntambatitanis\\ntangvayosaurus\\ntanius\\ntanycolagreus\\ntanystropheus\\ntanystrosuchus\\ntaohelong\\ntapinocephalus\\ntapuiasaurus\\ntarascosaurus\\ntarbosaurus\\ntarchia\\ntastavinsaurus\\ntatankacephalus\\ntatankaceratops\\ntataouinea\\ntatisaurus\\ntaurovenator\\ntaveirosaurus\\ntawa\\ntawasaurus\\ntazoudasaurus\\ntechnosaurus\\ntecovasaurus\\ntehuelchesaurus\\nteihivenator\\nteinurosaurus\\nteleocrater\\ntelmatosaurus\\ntenantosaurus\\ntenchisaurus\\ntendaguria\\ntengrisaurus\\ntenontosaurus\\nteratophoneus\\nteratosaurus\\ntermatosaurus\\ntethyshadros\\ntetragonosaurus\\ntexacephale\\ntexasetes\\nteyuwasu\\nthecocoelurus\\nthecodontosaurus\\nthecospondylus\\ntheiophytalia\\ntherizinosaurus\\ntherosaurus\\nthescelosaurus\\nthespesius\\nthotobolosaurus\\ntianchisaurus\\ntianchungosaurus\\ntianyulong\\ntianyuraptor\\ntianzhenosaurus\\ntichosteus\\ntienshanosaurus\\ntimimus\\ntimurlengia\\ntitanoceratops\\ntitanosaurus\\ntitanosaurus\\ntochisaurus\\ntomodon\\ntonganosaurus\\ntongtianlong\\ntonouchisaurus\\ntorilion\\ntornieria\\ntorosaurus\\ntorvosaurus\\ntototlmimus\\ntrachodon\\ntraukutitan\\ntrialestes\\ntriassolestes\\ntribelesodon\\ntriceratops\\ntrigonosaurus\\ntrimucrodon\\ntrinisaura\\ntriunfosaurus\\ntroodon\\ntsaagan\\ntsagantegia\\ntsintaosaurus\\ntugulusaurus\\ntuojiangosaurus\\nturanoceratops\\nturiasaurus\\ntylocephale\\ntylosteus\\ntyrannosaurus\\ntyrannotitan\\nillustration\\nuberabatitan\\nudanoceratops\\nugrosaurus\\nugrunaaluk\\nuintasaurus\\nultrasauros\\nultrasaurus\\nultrasaurus\\numarsaurus\\nunaysaurus\\nunenlagia\\nunescoceratops\\nunicerosaurus\\nunquillosaurus\\nurbacodon\\nutahceratops\\nutahraptor\\nuteodon\\nvagaceratops\\nvahiny\\nvaldoraptor\\nvaldosaurus\\nvariraptor\\nvelociraptor\\nvectensia\\nvectisaurus\\nvelafrons\\nvelocipes\\nvelociraptor\\nvelocisaurus\\nvenaticosuchus\\nvenenosaurus\\nveterupristisaurus\\nviavenator\\nvitakridrinda\\nvitakrisaurus\\nvolkheimeria\\nvouivria\\nvulcanodon\\nwadhurstia\\nwakinosaurus\\nwalgettosuchus\\nwalkeria\\nwalkersaurus\\nwangonisaurus\\nwannanosaurus\\nwellnhoferia\\nwendiceratops\\nwiehenvenator\\nwillinakaqe\\nwintonotitan\\nwuerhosaurus\\nwulagasaurus\\nwulatelong\\nwyleyia\\nwyomingraptor\\nxenoceratops\\nxenoposeidon\\nxenotarsosaurus\\nxianshanosaurus\\nxiaosaurus\\nxingxiulong\\nxinjiangovenator\\nxinjiangtitan\\nxiongguanlong\\nxixianykus\\nxixiasaurus\\nxixiposaurus\\nxuanhanosaurus\\nxuanhuaceratops\\nxuanhuasaurus\\nxuwulong\\nyaleosaurus\\nyamaceratops\\nyandusaurus\\nyangchuanosaurus\\nyaverlandia\\nyehuecauhceratops\\nyezosaurus\\nyibinosaurus\\nyimenosaurus\\nyingshanosaurus\\nyinlong\\nyixianosaurus\\nyizhousaurus\\nyongjinglong\\nyuanmouraptor\\nyuanmousaurus\\nyueosaurus\\nyulong\\nyunganglong\\nyunmenglong\\nyunnanosaurus\\nyunxianosaurus\\nyurgovuchia\\nyutyrannus\\nzanabazar\\nzanclodon\\nzapalasaurus\\nzapsalis\\nzaraapelta\\nzatomuszby\\nzephyrosaurus\\nzhanghenglong\\nzhejiangosaurus\\nzhenyuanlong\\nzhongornis\\nzhongjianosaurus\\nzhongyuansaurus\\nzhuchengceratops\\nzhuchengosaurus\\nzhuchengtitan\\nzhuchengtyrannus\\nziapelta\\nzigongosaurus\\nzizhongosaurus\\nzuniceratops\\nzunityrannus\\nzuolong\\nzuoyunlong\\nzupaysaurus\\nzuul'"
      ]
     },
     "execution_count": 3,
     "metadata": {},
     "output_type": "execute_result"
    }
   ],
   "source": [
    "data"
   ]
  },
  {
   "cell_type": "code",
   "execution_count": 4,
   "metadata": {},
   "outputs": [
    {
     "data": {
      "text/plain": [
       "{'\\n',\n",
       " 'a',\n",
       " 'b',\n",
       " 'c',\n",
       " 'd',\n",
       " 'e',\n",
       " 'f',\n",
       " 'g',\n",
       " 'h',\n",
       " 'i',\n",
       " 'j',\n",
       " 'k',\n",
       " 'l',\n",
       " 'm',\n",
       " 'n',\n",
       " 'o',\n",
       " 'p',\n",
       " 'q',\n",
       " 'r',\n",
       " 's',\n",
       " 't',\n",
       " 'u',\n",
       " 'v',\n",
       " 'w',\n",
       " 'x',\n",
       " 'y',\n",
       " 'z'}"
      ]
     },
     "execution_count": 4,
     "metadata": {},
     "output_type": "execute_result"
    }
   ],
   "source": [
    "set(data)"
   ]
  },
  {
   "cell_type": "code",
   "execution_count": 5,
   "metadata": {},
   "outputs": [
    {
     "data": {
      "text/plain": [
       "['w',\n",
       " 'v',\n",
       " 'o',\n",
       " 't',\n",
       " 'p',\n",
       " 'a',\n",
       " 'u',\n",
       " 'z',\n",
       " 'l',\n",
       " 'b',\n",
       " 'x',\n",
       " 'd',\n",
       " 'k',\n",
       " 'g',\n",
       " 'e',\n",
       " '\\n',\n",
       " 'm',\n",
       " 'h',\n",
       " 's',\n",
       " 'f',\n",
       " 'y',\n",
       " 'q',\n",
       " 'r',\n",
       " 'i',\n",
       " 'n',\n",
       " 'j',\n",
       " 'c']"
      ]
     },
     "execution_count": 5,
     "metadata": {},
     "output_type": "execute_result"
    }
   ],
   "source": [
    "chars"
   ]
  },
  {
   "cell_type": "code",
   "execution_count": 6,
   "metadata": {},
   "outputs": [
    {
     "name": "stdout",
     "output_type": "stream",
     "text": [
      "{0: '\\n', 1: 'a', 2: 'b', 3: 'c', 4: 'd', 5: 'e', 6: 'f', 7: 'g', 8: 'h', 9: 'i', 10: 'j', 11: 'k', 12: 'l', 13: 'm', 14: 'n', 15: 'o', 16: 'p', 17: 'q', 18: 'r', 19: 's', 20: 't', 21: 'u', 22: 'v', 23: 'w', 24: 'x', 25: 'y', 26: 'z'}\n"
     ]
    }
   ],
   "source": [
    "char_to_ix = { ch:i for i,ch in enumerate(sorted(chars)) }\n",
    "ix_to_char = { i:ch for i,ch in enumerate(sorted(chars)) }\n",
    "print(ix_to_char)"
   ]
  },
  {
   "cell_type": "markdown",
   "metadata": {},
   "source": [
    "### Clipping the gradients in the optimization loop:"
   ]
  },
  {
   "cell_type": "code",
   "execution_count": 7,
   "metadata": {},
   "outputs": [],
   "source": [
    "def clip(gradients, maxValue):\n",
    "\n",
    "    dWaa, dWax, dWya, db, dby = gradients['dWaa'], gradients['dWax'], gradients['dWya'], gradients['db'], gradients['dby']\n",
    "   \n",
    "    for gradient in [dWax, dWaa, dWya, db, dby]:\n",
    "        np.clip(gradient, -maxValue, +maxValue, out=gradient)\n",
    "    \n",
    "    gradients = {\"dWaa\": dWaa, \"dWax\": dWax, \"dWya\": dWya, \"db\": db, \"dby\": dby}\n",
    "    \n",
    "    return gradients"
   ]
  },
  {
   "cell_type": "code",
   "execution_count": 8,
   "metadata": {},
   "outputs": [
    {
     "name": "stdout",
     "output_type": "stream",
     "text": [
      "gradients[\"dWaa\"][1][2] = 10.0\n",
      "gradients[\"dWax\"][3][1] = -10.0\n",
      "gradients[\"dWya\"][1][2] = 0.2971381536101662\n",
      "gradients[\"db\"][4] = [10.]\n",
      "gradients[\"dby\"][1] = [8.45833407]\n"
     ]
    }
   ],
   "source": [
    "np.random.seed(3)\n",
    "dWax = np.random.randn(5,3)*10\n",
    "dWaa = np.random.randn(5,5)*10\n",
    "dWya = np.random.randn(2,5)*10\n",
    "db = np.random.randn(5,1)*10\n",
    "dby = np.random.randn(2,1)*10\n",
    "gradients = {\"dWax\": dWax, \"dWaa\": dWaa, \"dWya\": dWya, \"db\": db, \"dby\": dby}\n",
    "gradients = clip(gradients, 10)\n",
    "print(\"gradients[\\\"dWaa\\\"][1][2] =\", gradients[\"dWaa\"][1][2])\n",
    "print(\"gradients[\\\"dWax\\\"][3][1] =\", gradients[\"dWax\"][3][1])\n",
    "print(\"gradients[\\\"dWya\\\"][1][2] =\", gradients[\"dWya\"][1][2])\n",
    "print(\"gradients[\\\"db\\\"][4] =\", gradients[\"db\"][4])\n",
    "print(\"gradients[\\\"dby\\\"][1] =\", gradients[\"dby\"][1])"
   ]
  },
  {
   "cell_type": "markdown",
   "metadata": {},
   "source": [
    "### Sampling:"
   ]
  },
  {
   "cell_type": "code",
   "execution_count": 9,
   "metadata": {},
   "outputs": [],
   "source": [
    "def sample(parameters, char_to_ix, seed):\n",
    "    \n",
    "    Waa, Wax, Wya, by, b = parameters['Waa'], parameters['Wax'], parameters['Wya'], parameters['by'], parameters['b']\n",
    "    vocab_size = by.shape[0]\n",
    "    n_a = Waa.shape[1]\n",
    "\n",
    "    x = np.zeros((vocab_size, 1))\n",
    "\n",
    "    a_prev = np.zeros((n_a, 1))\n",
    "    \n",
    "    indices = []\n",
    "    \n",
    "    idx = -1 \n",
    "    \n",
    "    counter = 0\n",
    "    newline_character = char_to_ix['\\n']\n",
    "    \n",
    "    while (idx != newline_character and counter != 50):\n",
    "        \n",
    "        a = np.tanh(np.dot(Wax, x) + np.dot(Waa, a_prev) + b)\n",
    "        z = np.dot(Wya, a) + by\n",
    "        y = softmax(z)\n",
    "        \n",
    "        np.random.seed(counter+seed) \n",
    "        \n",
    "        idx = np.random.choice([0,1,2,3,4,5,6,7,8,9,10,11,12,13,14,15,16,17,18,19,20,21,22,23,24,25,26], p = y.ravel())\n",
    "\n",
    "        indices.append(idx)\n",
    "        \n",
    "        x = np.zeros((vocab_size, 1))\n",
    "        x[idx] = 1\n",
    "        \n",
    "        a_prev = a\n",
    "        \n",
    "        seed += 1\n",
    "        counter +=1\n",
    "        \n",
    "\n",
    "    if (counter == 50):\n",
    "        indices.append(char_to_ix['\\n'])\n",
    "    \n",
    "    return indices"
   ]
  },
  {
   "cell_type": "code",
   "execution_count": 10,
   "metadata": {},
   "outputs": [
    {
     "name": "stdout",
     "output_type": "stream",
     "text": [
      "Sampling:\n",
      "list of sampled indices: [12, 17, 24, 14, 13, 9, 10, 22, 24, 6, 13, 11, 12, 6, 21, 15, 21, 14, 3, 2, 1, 21, 18, 24, 7, 25, 6, 25, 18, 10, 16, 2, 3, 8, 15, 12, 11, 7, 1, 12, 10, 2, 7, 7, 11, 17, 24, 12, 13, 0, 0]\n",
      "list of sampled characters: ['l', 'q', 'x', 'n', 'm', 'i', 'j', 'v', 'x', 'f', 'm', 'k', 'l', 'f', 'u', 'o', 'u', 'n', 'c', 'b', 'a', 'u', 'r', 'x', 'g', 'y', 'f', 'y', 'r', 'j', 'p', 'b', 'c', 'h', 'o', 'l', 'k', 'g', 'a', 'l', 'j', 'b', 'g', 'g', 'k', 'q', 'x', 'l', 'm', '\\n', '\\n']\n"
     ]
    }
   ],
   "source": [
    "np.random.seed(2)\n",
    "_, n_a = 20, 100\n",
    "Wax, Waa, Wya = np.random.randn(n_a, vocab_size), np.random.randn(n_a, n_a), np.random.randn(vocab_size, n_a)\n",
    "b, by = np.random.randn(n_a, 1), np.random.randn(vocab_size, 1)\n",
    "parameters = {\"Wax\": Wax, \"Waa\": Waa, \"Wya\": Wya, \"b\": b, \"by\": by}\n",
    "\n",
    "\n",
    "indices = sample(parameters, char_to_ix, 0)\n",
    "print(\"Sampling:\")\n",
    "print(\"list of sampled indices:\", indices)\n",
    "print(\"list of sampled characters:\", [ix_to_char[i] for i in indices])"
   ]
  },
  {
   "cell_type": "markdown",
   "metadata": {},
   "source": [
    "## Building the language model: "
   ]
  },
  {
   "cell_type": "code",
   "execution_count": 11,
   "metadata": {},
   "outputs": [],
   "source": [
    "def optimize(X, Y, a_prev, parameters, learning_rate = 0.01):\n",
    "    \n",
    "    loss, cache = rnn_forward(X, Y, a_prev, parameters)\n",
    "    \n",
    "    gradients, a = rnn_backward(X, Y, parameters, cache)\n",
    "    \n",
    "    gradients = clip(gradients, 5)\n",
    "    \n",
    "    parameters = update_parameters(parameters, gradients, learning_rate)\n",
    "       \n",
    "    return loss, gradients, a[len(X)-1]"
   ]
  },
  {
   "cell_type": "code",
   "execution_count": 12,
   "metadata": {},
   "outputs": [
    {
     "name": "stdout",
     "output_type": "stream",
     "text": [
      "Loss = 126.50397572165346\n",
      "gradients[\"dWaa\"][1][2] = 0.1947093153472697\n",
      "np.argmax(gradients[\"dWax\"]) = 93\n",
      "gradients[\"dWya\"][1][2] = -0.007773876032004693\n",
      "gradients[\"db\"][4] = [-0.06809825]\n",
      "gradients[\"dby\"][1] = [0.01538192]\n",
      "a_last[4] = [-1.]\n"
     ]
    }
   ],
   "source": [
    "np.random.seed(1)\n",
    "vocab_size, n_a = 27, 100\n",
    "a_prev = np.random.randn(n_a, 1)\n",
    "Wax, Waa, Wya = np.random.randn(n_a, vocab_size), np.random.randn(n_a, n_a), np.random.randn(vocab_size, n_a)\n",
    "b, by = np.random.randn(n_a, 1), np.random.randn(vocab_size, 1)\n",
    "parameters = {\"Wax\": Wax, \"Waa\": Waa, \"Wya\": Wya, \"b\": b, \"by\": by}\n",
    "X = [12,3,5,11,22,3]\n",
    "Y = [4,14,11,22,25, 26]\n",
    "\n",
    "loss, gradients, a_last = optimize(X, Y, a_prev, parameters, learning_rate = 0.01)\n",
    "print(\"Loss =\", loss)\n",
    "print(\"gradients[\\\"dWaa\\\"][1][2] =\", gradients[\"dWaa\"][1][2])\n",
    "print(\"np.argmax(gradients[\\\"dWax\\\"]) =\", np.argmax(gradients[\"dWax\"]))\n",
    "print(\"gradients[\\\"dWya\\\"][1][2] =\", gradients[\"dWya\"][1][2])\n",
    "print(\"gradients[\\\"db\\\"][4] =\", gradients[\"db\"][4])\n",
    "print(\"gradients[\\\"dby\\\"][1] =\", gradients[\"dby\"][1])\n",
    "print(\"a_last[4] =\", a_last[4])"
   ]
  },
  {
   "cell_type": "code",
   "execution_count": 13,
   "metadata": {},
   "outputs": [
    {
     "name": "stdout",
     "output_type": "stream",
     "text": [
      "[None, 7, 15, 20, 15, 8, 5, 12, 12]\n"
     ]
    }
   ],
   "source": [
    "Q = [None] + [char_to_ix[ch] for ch in \"gotohell\"]\n",
    "print(Q)"
   ]
  },
  {
   "cell_type": "code",
   "execution_count": 14,
   "metadata": {},
   "outputs": [
    {
     "name": "stdout",
     "output_type": "stream",
     "text": [
      "[7, 15, 20, 15, 8, 5, 12, 12, 0]\n"
     ]
    }
   ],
   "source": [
    "R = Q[1:] + [char_to_ix[\"\\n\"]]\n",
    "print(R)"
   ]
  },
  {
   "cell_type": "markdown",
   "metadata": {
    "collapsed": true
   },
   "source": [
    "### Training the model: "
   ]
  },
  {
   "cell_type": "code",
   "execution_count": 15,
   "metadata": {},
   "outputs": [],
   "source": [
    "def model(data, ix_to_char, char_to_ix, num_iterations = 35000, n_a = 50, dino_names = 7, vocab_size = 27):\n",
    "\n",
    "    n_x, n_y = vocab_size, vocab_size\n",
    "    \n",
    "    parameters = initialize_parameters(n_a, n_x, n_y)\n",
    "    \n",
    "    loss = get_initial_loss(vocab_size, dino_names)\n",
    "    \n",
    "    with open(\"dinos.txt\") as f:\n",
    "        examples = f.readlines()\n",
    "    examples = [x.lower().strip() for x in examples]\n",
    "    \n",
    "    np.random.seed(0)\n",
    "    np.random.shuffle(examples)\n",
    "    \n",
    "    a_prev = np.zeros((n_a, 1))\n",
    "    \n",
    "    for j in range(num_iterations):\n",
    "        \n",
    "        index = j % len(examples)\n",
    "        X = [None] + [char_to_ix[ch] for ch in examples[index]]\n",
    "        Y = X[1:] + [char_to_ix[\"\\n\"]]\n",
    "        \n",
    "        curr_loss, gradients, a_prev = optimize(X, Y, a_prev, parameters, learning_rate = 0.01)\n",
    "        \n",
    "        loss = smooth(loss, curr_loss)\n",
    "\n",
    "        if j % 2000 == 0:\n",
    "            \n",
    "            print('Iteration: %d, Loss: %f' % (j, loss) + '\\n')\n",
    "            \n",
    "            seed = 0\n",
    "            for name in range(dino_names):\n",
    "                \n",
    "                sampled_indices = sample(parameters, char_to_ix, seed)\n",
    "                print_sample(sampled_indices, ix_to_char)\n",
    "                \n",
    "                seed += 1  \n",
    "      \n",
    "            print('\\n')\n",
    "        \n",
    "    return parameters"
   ]
  },
  {
   "cell_type": "markdown",
   "metadata": {},
   "source": [
    "### Generated names: "
   ]
  },
  {
   "cell_type": "code",
   "execution_count": 16,
   "metadata": {
    "scrolled": true
   },
   "outputs": [
    {
     "name": "stdout",
     "output_type": "stream",
     "text": [
      "Iteration: 0, Loss: 23.087336\n",
      "\n",
      "Nkzxwtdmfqoeyhsqwasjkjvu\n",
      "Kneb\n",
      "Kzxwtdmfqoeyhsqwasjkjvu\n",
      "Neb\n",
      "Zxwtdmfqoeyhsqwasjkjvu\n",
      "Eb\n",
      "Xwtdmfqoeyhsqwasjkjvu\n",
      "\n",
      "\n",
      "Iteration: 2000, Loss: 27.884160\n",
      "\n",
      "Liusskeomnolxeros\n",
      "Hmdaairus\n",
      "Hytroligoraurus\n",
      "Lecalosapaus\n",
      "Xusicikoraurus\n",
      "Abalpsamantisaurus\n",
      "Tpraneronxeros\n",
      "\n",
      "\n",
      "Iteration: 4000, Loss: 25.901815\n",
      "\n",
      "Mivrosaurus\n",
      "Inee\n",
      "Ivtroplisaurus\n",
      "Mbaaisaurus\n",
      "Wusichisaurus\n",
      "Cabaselachus\n",
      "Toraperlethosdarenitochusthiamamumamaon\n",
      "\n",
      "\n",
      "Iteration: 6000, Loss: 24.608779\n",
      "\n",
      "Onwusceomosaurus\n",
      "Lieeaerosaurus\n",
      "Lxussaurus\n",
      "Oma\n",
      "Xusteonosaurus\n",
      "Eeahosaurus\n",
      "Toreonosaurus\n",
      "\n",
      "\n",
      "Iteration: 8000, Loss: 24.070350\n",
      "\n",
      "Onxusichepriuon\n",
      "Kilabersaurus\n",
      "Lutrodon\n",
      "Omaaerosaurus\n",
      "Xutrcheps\n",
      "Edaksoje\n",
      "Trodiktonus\n",
      "\n",
      "\n",
      "Iteration: 10000, Loss: 23.844446\n",
      "\n",
      "Onyusaurus\n",
      "Klecalosaurus\n",
      "Lustodon\n",
      "Ola\n",
      "Xusodonia\n",
      "Eeaeosaurus\n",
      "Troceosaurus\n",
      "\n",
      "\n",
      "Iteration: 12000, Loss: 23.291971\n",
      "\n",
      "Onyxosaurus\n",
      "Kica\n",
      "Lustrepiosaurus\n",
      "Olaagrraiansaurus\n",
      "Yuspangosaurus\n",
      "Eealosaurus\n",
      "Trognesaurus\n",
      "\n",
      "\n",
      "Iteration: 14000, Loss: 23.382338\n",
      "\n",
      "Meutromodromurus\n",
      "Inda\n",
      "Iutroinatorsaurus\n",
      "Maca\n",
      "Yusteratoptititan\n",
      "Ca\n",
      "Troclosaurus\n",
      "\n",
      "\n",
      "Iteration: 16000, Loss: 23.268257\n",
      "\n",
      "Mbutosaurus\n",
      "Indaa\n",
      "Iustolophulurus\n",
      "Macagosaurus\n",
      "Yusoclichaurus\n",
      "Caahosaurus\n",
      "Trodon\n",
      "\n",
      "\n",
      "Iteration: 18000, Loss: 22.928870\n",
      "\n",
      "Phytrogiaps\n",
      "Mela\n",
      "Mustrha\n",
      "Pegamosaurus\n",
      "Ytromacisaurus\n",
      "Efanshie\n",
      "Troma\n",
      "\n",
      "\n",
      "Iteration: 20000, Loss: 23.008798\n",
      "\n",
      "Onyusperchohychus\n",
      "Lola\n",
      "Lytrranfosaurus\n",
      "Olaa\n",
      "Ytrrcharomulus\n",
      "Ehagosaurus\n",
      "Trrcharonyhus\n",
      "\n",
      "\n",
      "Iteration: 22000, Loss: 22.794515\n",
      "\n",
      "Onyvus\n",
      "Llecakosaurus\n",
      "Mustodonosaurus\n",
      "Ola\n",
      "Yusodon\n",
      "Eiadosaurus\n",
      "Trodontorus\n",
      "\n",
      "\n",
      "Iteration: 24000, Loss: 22.648635\n",
      "\n",
      "Meutosaurus\n",
      "Incaachudachus\n",
      "Itntodon\n",
      "Mecaessan\n",
      "Yurong\n",
      "Daadropachusaurus\n",
      "Troenatheusaurosaurus\n",
      "\n",
      "\n",
      "Iteration: 26000, Loss: 22.599152\n",
      "\n",
      "Nixusehoenomulushapnelspanthuonathitalia\n",
      "Jigaadroncansaurus\n",
      "Kustodonis\n",
      "Nedantrocantiteniupegyankuaeusalomarotimenmpangvin\n",
      "Ytrodongoluctos\n",
      "Eebdssaegoterichus\n",
      "Trodolopiunsitarbilus\n",
      "\n",
      "\n",
      "Iteration: 28000, Loss: 22.628455\n",
      "\n",
      "Pnywrodilosaurus\n",
      "Loca\n",
      "Mustodonanethosaurus\n",
      "Phabesceeatopsaurus\n",
      "Ytrodonnoludosaurus\n",
      "Elaishacaosaurus\n",
      "Trrdilosaurus\n",
      "\n",
      "\n",
      "Iteration: 30000, Loss: 22.587893\n",
      "\n",
      "Piusosaurus\n",
      "Locaadrus\n",
      "Lutosaurus\n",
      "Pacalosaurus\n",
      "Yusochesaurus\n",
      "Eg\n",
      "Trraodon\n",
      "\n",
      "\n",
      "Iteration: 32000, Loss: 22.314649\n",
      "\n",
      "Nivosaurus\n",
      "Jiacamisaurus\n",
      "Kusplasaurus\n",
      "Ncaadosaurus\n",
      "Yusiandon\n",
      "Eeaisilaanus\n",
      "Trokalenator\n",
      "\n",
      "\n",
      "Iteration: 34000, Loss: 22.445100\n",
      "\n",
      "Mewsroengosaurus\n",
      "Ilabafosaurus\n",
      "Justoeomimavesaurus\n",
      "Macaeosaurus\n",
      "Yrosaurus\n",
      "Eiaeosaurus\n",
      "Trodondolus\n",
      "\n",
      "\n"
     ]
    }
   ],
   "source": [
    "parameters = model(data, ix_to_char, char_to_ix)"
   ]
  },
  {
   "cell_type": "code",
   "execution_count": null,
   "metadata": {},
   "outputs": [],
   "source": []
  }
 ],
 "metadata": {
  "coursera": {
   "course_slug": "nlp-sequence-models",
   "graded_item_id": "1dYg0",
   "launcher_item_id": "MLhxP"
  },
  "kernelspec": {
   "display_name": "Python 3",
   "language": "python",
   "name": "python3"
  },
  "language_info": {
   "codemirror_mode": {
    "name": "ipython",
    "version": 3
   },
   "file_extension": ".py",
   "mimetype": "text/x-python",
   "name": "python",
   "nbconvert_exporter": "python",
   "pygments_lexer": "ipython3",
   "version": "3.5.5"
  }
 },
 "nbformat": 4,
 "nbformat_minor": 2
}
